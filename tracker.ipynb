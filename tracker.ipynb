{
 "cells": [
  {
   "cell_type": "code",
   "execution_count": 21,
   "metadata": {},
   "outputs": [],
   "source": [
    "import cv2\n",
    "import numpy as np"
   ]
  },
  {
   "cell_type": "code",
   "execution_count": 27,
   "metadata": {},
   "outputs": [],
   "source": [
    "cap = cv2.VideoCapture(\"walk2.mp4\")\n",
    "\n",
    "_, frame = cap.read()\n",
    "# frame = cv2.cvtColor(frame, cv2.COLOR_BGR2GRAY)\n",
    "frame = cv2.resize(frame,(800,600))\n",
    "\n",
    "bbox = cv2.selectROI(frame, False, True)\n",
    "old_bbox = bbox\n",
    "\n",
    "bbox_roi = frame[bbox[1]:bbox[3]+bbox[1],bbox[0]:bbox[2]+bbox[0]]\n",
    "\n",
    "cv2.imshow(\"roi\",bbox_roi)\n",
    "cv2.waitKey(0)\n",
    "cv2.destroyAllWindows()\n",
    "\n",
    "tracker = cv2.TrackerCSRT_create()\n",
    "status_tracker = tracker.init(frame, bbox)\n"
   ]
  },
  {
   "cell_type": "code",
   "execution_count": 28,
   "metadata": {},
   "outputs": [],
   "source": [
    "while True:\n",
    "    status_cap, frame = cap.read()\n",
    "    if status_cap is not True:\n",
    "        break\n",
    "    frame = cv2.resize(frame,(800,600))\n",
    "#   frame = cv2.cvtColor(frame, cv2.COLOR_BGR2GRAY)\n",
    "\n",
    "    if not status_cap:\n",
    "        break\n",
    "\n",
    "    if status_tracker:\n",
    "        timer = cv2.getTickCount()\n",
    "        status_tracker, bbox = tracker.update(frame)\n",
    "        \n",
    "    if status_tracker:\n",
    "        x, y, w, h = [int(i) for i in bbox]\n",
    "#       cv2.rectangle(frame, (x, y), (x + w, y + h), (0, 255, 0), 15)\n",
    "        cv2.putText(frame, \"YOUR_TEXT\", (round((x+w/2)), round(y+h/2)),\n",
    "                    cv2.FONT_HERSHEY_SIMPLEX, 1, (0, 255, 0), 2);\n",
    "    cv2.imshow(\"Window\", frame)\n",
    "    k = cv2.waitKey(20)\n",
    "    \n",
    "    if k == 27: \n",
    "        break\n",
    "        \n",
    "cv2.destroyAllWindows()"
   ]
  },
  {
   "cell_type": "code",
   "execution_count": null,
   "metadata": {},
   "outputs": [],
   "source": []
  }
 ],
 "metadata": {
  "kernelspec": {
   "display_name": "Python 3",
   "language": "python",
   "name": "python3"
  },
  "language_info": {
   "codemirror_mode": {
    "name": "ipython",
    "version": 3
   },
   "file_extension": ".py",
   "mimetype": "text/x-python",
   "name": "python",
   "nbconvert_exporter": "python",
   "pygments_lexer": "ipython3",
   "version": "3.6.7"
  }
 },
 "nbformat": 4,
 "nbformat_minor": 2
}
